{
 "cells": [
  {
   "cell_type": "code",
   "execution_count": 5,
   "id": "bdac229e-cf98-4bd0-bd97-8ec49e171016",
   "metadata": {},
   "outputs": [
    {
     "name": "stdout",
     "output_type": "stream",
     "text": [
      "IPython: 8.16.1\n",
      "numpy: 1.26.1\n",
      "pandas: 2.1.1\n",
      "scikit-learn: 1.5.0\n"
     ]
    }
   ],
   "source": [
    "from __future__ import print_function\n",
    "\n",
    "import IPython\n",
    "print('IPython:', IPython.__version__)\n",
    "\n",
    "import numpy\n",
    "print('numpy:', numpy.__version__)\n",
    "\n",
    "import pandas\n",
    "print('pandas:', pandas.__version__)\n",
    "\n",
    "import sklearn\n",
    "print('scikit-learn:', sklearn.__version__)"
   ]
  },
  {
   "cell_type": "code",
   "execution_count": 6,
   "id": "caab45cc-5460-4a60-b7c8-96e2438ef232",
   "metadata": {},
   "outputs": [],
   "source": [
    "#load data\n",
    "from sklearn.datasets import load_iris\n",
    "\n",
    "iris = load_iris()\n",
    "\n",
    "# Perbedaan Numpy dan Pandas\n",
    "# Numpy tidak punya fitur (nama atribut/nama fitur)\n",
    "# Pandas punya fitur (nama atribut/nama fitur)"
   ]
  },
  {
   "cell_type": "code",
   "execution_count": 7,
   "id": "bf6eee50-cdd2-4ac6-a9b1-af30944e86f6",
   "metadata": {},
   "outputs": [
    {
     "name": "stdout",
     "output_type": "stream",
     "text": [
      "[[5.1 3.5 1.4 0.2]\n",
      " [4.9 3.  1.4 0.2]\n",
      " [4.7 3.2 1.3 0.2]\n",
      " [4.6 3.1 1.5 0.2]\n",
      " [5.  3.6 1.4 0.2]]\n",
      "[0 0 0 0 0]\n"
     ]
    }
   ],
   "source": [
    "# ini jenis tipe datanya numpy array\n",
    "X, y = iris.data, iris.target\n",
    "\n",
    "print(X[:5])\n",
    "print(y[:5])"
   ]
  },
  {
   "cell_type": "code",
   "execution_count": 8,
   "id": "dcaeacd2-c592-4f04-a82b-47d42961809d",
   "metadata": {},
   "outputs": [
    {
     "data": {
      "text/html": [
       "<div>\n",
       "<style scoped>\n",
       "    .dataframe tbody tr th:only-of-type {\n",
       "        vertical-align: middle;\n",
       "    }\n",
       "\n",
       "    .dataframe tbody tr th {\n",
       "        vertical-align: top;\n",
       "    }\n",
       "\n",
       "    .dataframe thead th {\n",
       "        text-align: right;\n",
       "    }\n",
       "</style>\n",
       "<table border=\"1\" class=\"dataframe\">\n",
       "  <thead>\n",
       "    <tr style=\"text-align: right;\">\n",
       "      <th></th>\n",
       "      <th>sepal length (cm)</th>\n",
       "      <th>sepal width (cm)</th>\n",
       "      <th>petal length (cm)</th>\n",
       "      <th>petal width (cm)</th>\n",
       "      <th>target</th>\n",
       "    </tr>\n",
       "  </thead>\n",
       "  <tbody>\n",
       "    <tr>\n",
       "      <th>0</th>\n",
       "      <td>5.1</td>\n",
       "      <td>3.5</td>\n",
       "      <td>1.4</td>\n",
       "      <td>0.2</td>\n",
       "      <td>0</td>\n",
       "    </tr>\n",
       "    <tr>\n",
       "      <th>1</th>\n",
       "      <td>4.9</td>\n",
       "      <td>3.0</td>\n",
       "      <td>1.4</td>\n",
       "      <td>0.2</td>\n",
       "      <td>0</td>\n",
       "    </tr>\n",
       "    <tr>\n",
       "      <th>2</th>\n",
       "      <td>4.7</td>\n",
       "      <td>3.2</td>\n",
       "      <td>1.3</td>\n",
       "      <td>0.2</td>\n",
       "      <td>0</td>\n",
       "    </tr>\n",
       "    <tr>\n",
       "      <th>3</th>\n",
       "      <td>4.6</td>\n",
       "      <td>3.1</td>\n",
       "      <td>1.5</td>\n",
       "      <td>0.2</td>\n",
       "      <td>0</td>\n",
       "    </tr>\n",
       "    <tr>\n",
       "      <th>4</th>\n",
       "      <td>5.0</td>\n",
       "      <td>3.6</td>\n",
       "      <td>1.4</td>\n",
       "      <td>0.2</td>\n",
       "      <td>0</td>\n",
       "    </tr>\n",
       "  </tbody>\n",
       "</table>\n",
       "</div>"
      ],
      "text/plain": [
       "   sepal length (cm)  sepal width (cm)  petal length (cm)  petal width (cm)  \\\n",
       "0                5.1               3.5                1.4               0.2   \n",
       "1                4.9               3.0                1.4               0.2   \n",
       "2                4.7               3.2                1.3               0.2   \n",
       "3                4.6               3.1                1.5               0.2   \n",
       "4                5.0               3.6                1.4               0.2   \n",
       "\n",
       "   target  \n",
       "0       0  \n",
       "1       0  \n",
       "2       0  \n",
       "3       0  \n",
       "4       0  "
      ]
     },
     "execution_count": 8,
     "metadata": {},
     "output_type": "execute_result"
    }
   ],
   "source": [
    "# kalau yang ini pandas dataframe\n",
    "\n",
    "import pandas as pd\n",
    "\n",
    "df = pd.DataFrame(iris.data, columns=iris.feature_names)\n",
    "df['target'] = iris.target\n",
    "\n",
    "df.head()"
   ]
  },
  {
   "cell_type": "code",
   "execution_count": 9,
   "id": "33cbf543-c73b-493d-93c3-19eced496944",
   "metadata": {},
   "outputs": [],
   "source": [
    "# pembuatan pipeline\n",
    "\n",
    "from sklearn.pipeline import make_pipeline\n",
    "from sklearn.preprocessing import StandardScaler\n",
    "from sklearn.svm import LinearSVC\n",
    "\n",
    "# pipeline numpy array\n",
    "pipe_numpy = make_pipeline(StandardScaler(), LinearSVC())\n",
    "\n",
    "# pipeline pandas dataframe\n",
    "pipe_pandas = make_pipeline(StandardScaler(), LinearSVC())"
   ]
  },
  {
   "cell_type": "code",
   "execution_count": 10,
   "id": "94acdeca-b988-407e-a9f2-01e89ce35053",
   "metadata": {},
   "outputs": [],
   "source": [
    "# pemisahan data (splitting)\n",
    "\n",
    "from sklearn.model_selection import train_test_split\n",
    "from sklearn.metrics import classification_report\n",
    "\n",
    "# split dataset\n",
    "# numpy\n",
    "X_train, X_test, y_train, y_test = train_test_split(X, y, test_size=0.2, random_state=46)\n",
    "\n",
    "# pandas\n",
    "df_train, df_test = train_test_split(df, test_size=0.2, random_state=46)"
   ]
  },
  {
   "cell_type": "code",
   "execution_count": 11,
   "id": "06d89d04-4172-4956-a329-7dcddf771d27",
   "metadata": {},
   "outputs": [
    {
     "name": "stdout",
     "output_type": "stream",
     "text": [
      "Hasil Evaluasi Model Numpy\n",
      "              precision    recall  f1-score   support\n",
      "\n",
      "           0       1.00      1.00      1.00        12\n",
      "           1       0.88      0.78      0.82         9\n",
      "           2       0.80      0.89      0.84         9\n",
      "\n",
      "    accuracy                           0.90        30\n",
      "   macro avg       0.89      0.89      0.89        30\n",
      "weighted avg       0.90      0.90      0.90        30\n",
      "\n",
      "Hasil Evaluasi Model Pandas\n",
      "              precision    recall  f1-score   support\n",
      "\n",
      "           0       1.00      1.00      1.00        12\n",
      "           1       0.88      0.78      0.82         9\n",
      "           2       0.80      0.89      0.84         9\n",
      "\n",
      "    accuracy                           0.90        30\n",
      "   macro avg       0.89      0.89      0.89        30\n",
      "weighted avg       0.90      0.90      0.90        30\n",
      "\n"
     ]
    }
   ],
   "source": [
    "# training\n",
    "\n",
    "# numpy\n",
    "pipe_numpy.fit(X_train, y_train)\n",
    "# untuk mengevaluasi\n",
    "y_pred = pipe_numpy.predict(X_test)\n",
    "print(\"Hasil Evaluasi Model Numpy\")\n",
    "print(classification_report(y_test, y_pred))\n",
    "\n",
    "# pandas\n",
    "# untuk memisahkan antara data (X_train_df/df_train) dengan target (y)\n",
    "# jadinya pada X_train dihapus target, sedangkan pada y_train disisakan target\n",
    "X_train_df, y_train_df = df_train.drop('target', axis=1), df_train['target']\n",
    "X_test_df, y_test_df = df_test.drop('target', axis=1), df_test['target']\n",
    "\n",
    "pipe_pandas.fit(X_train_df, y_train_df)\n",
    "y_pred_df = pipe_pandas.predict(X_test_df)\n",
    "print(\"Hasil Evaluasi Model Pandas\")\n",
    "print(classification_report(y_test_df, y_pred_df))"
   ]
  },
  {
   "cell_type": "code",
   "execution_count": 12,
   "id": "2431107a-d56a-43dd-8cf8-811f080b6f56",
   "metadata": {},
   "outputs": [],
   "source": [
    "# menyimpan model dengan pkl (pickle)\n",
    "import pickle\n",
    "\n",
    "# numpy\n",
    "with open(\"pemodelan_numpy.pkl\", \"wb\") as model_file:\n",
    "    pickle.dump(pipe_numpy, model_file)\n",
    "\n",
    "# wb = write binary (untuk dump)\n",
    "\n",
    "# pandas\n",
    "with open(\"pemodelan_pandas.pkl\", \"wb\") as model_file:\n",
    "    pickle.dump(pipe_pandas, model_file)"
   ]
  },
  {
   "cell_type": "code",
   "execution_count": 13,
   "id": "6392c909-18c6-4c80-aca6-5ea6a0d084da",
   "metadata": {},
   "outputs": [],
   "source": [
    "# load model, dari model development menuju model deployment"
   ]
  },
  {
   "cell_type": "code",
   "execution_count": 14,
   "id": "4b72cca0-eaa1-4146-ad40-690415a0bfc4",
   "metadata": {},
   "outputs": [],
   "source": [
    "# numpy\n",
    "with open(\"pemodelan_numpy.pkl\", \"rb\") as model_file:\n",
    "    loaded_numpy_model = pickle.load(model_file)\n",
    "\n",
    "# rb = read binary (untuk load)"
   ]
  },
  {
   "cell_type": "code",
   "execution_count": 15,
   "id": "3a0b0e48-7f6e-4795-bb40-695a0232b89a",
   "metadata": {},
   "outputs": [
    {
     "data": {
      "text/plain": [
       "array([1])"
      ]
     },
     "execution_count": 15,
     "metadata": {},
     "output_type": "execute_result"
    }
   ],
   "source": [
    "# predict/prediksi menggunakan numpy\n",
    "\n",
    "# kurungnya dua karena agar satu baris empat kolom new_data ini jadi matriks\n",
    "new_data = [[1,1,1,1]]\n",
    "loaded_numpy_model.predict(new_data)"
   ]
  },
  {
   "cell_type": "code",
   "execution_count": 16,
   "id": "6f2b6d35-a09f-46b4-a5f7-927348142e69",
   "metadata": {},
   "outputs": [
    {
     "data": {
      "text/plain": [
       "array(['setosa', 'versicolor', 'virginica'], dtype='<U10')"
      ]
     },
     "execution_count": 16,
     "metadata": {},
     "output_type": "execute_result"
    }
   ],
   "source": [
    "# array([1]) itu apa?\n",
    "# berdasarkan target names:\n",
    "iris.target_names\n",
    "#1 adalah bunga versicolor, kalau 0 setosa, 2 virginica"
   ]
  },
  {
   "cell_type": "code",
   "execution_count": 17,
   "id": "83d6d38c-b3eb-4847-956e-93fbe0da7cc2",
   "metadata": {},
   "outputs": [],
   "source": [
    "# pandas\n",
    "with open(\"pemodelan_pandas.pkl\", \"rb\") as model_file:\n",
    "    loaded_pandas_model = pickle.load(model_file)"
   ]
  },
  {
   "cell_type": "code",
   "execution_count": 18,
   "id": "8021520b-2dbd-4a93-bf51-7d3aa0abc607",
   "metadata": {},
   "outputs": [
    {
     "data": {
      "text/plain": [
       "array([1])"
      ]
     },
     "execution_count": 18,
     "metadata": {},
     "output_type": "execute_result"
    }
   ],
   "source": [
    "# predict/prediksi menggunakan pandas\n",
    "\n",
    "new_data = [[1,1,1,1]]\n",
    "# data ini diubah ke dalam pandas dataFrame\n",
    "new_data = pd.DataFrame(new_data, columns=iris.feature_names)\n",
    "loaded_pandas_model.predict(new_data)"
   ]
  },
  {
   "cell_type": "code",
   "execution_count": 19,
   "id": "113301d4-a937-4eb2-a975-039a2d83fffb",
   "metadata": {},
   "outputs": [
    {
     "data": {
      "text/html": [
       "<div>\n",
       "<style scoped>\n",
       "    .dataframe tbody tr th:only-of-type {\n",
       "        vertical-align: middle;\n",
       "    }\n",
       "\n",
       "    .dataframe tbody tr th {\n",
       "        vertical-align: top;\n",
       "    }\n",
       "\n",
       "    .dataframe thead th {\n",
       "        text-align: right;\n",
       "    }\n",
       "</style>\n",
       "<table border=\"1\" class=\"dataframe\">\n",
       "  <thead>\n",
       "    <tr style=\"text-align: right;\">\n",
       "      <th></th>\n",
       "      <th>sepal length (cm)</th>\n",
       "      <th>sepal width (cm)</th>\n",
       "      <th>petal length (cm)</th>\n",
       "      <th>petal width (cm)</th>\n",
       "    </tr>\n",
       "  </thead>\n",
       "  <tbody>\n",
       "    <tr>\n",
       "      <th>0</th>\n",
       "      <td>1</td>\n",
       "      <td>1</td>\n",
       "      <td>1</td>\n",
       "      <td>1</td>\n",
       "    </tr>\n",
       "  </tbody>\n",
       "</table>\n",
       "</div>"
      ],
      "text/plain": [
       "   sepal length (cm)  sepal width (cm)  petal length (cm)  petal width (cm)\n",
       "0                  1                 1                  1                 1"
      ]
     },
     "execution_count": 19,
     "metadata": {},
     "output_type": "execute_result"
    }
   ],
   "source": [
    "new_data"
   ]
  },
  {
   "cell_type": "code",
   "execution_count": 20,
   "id": "38c653ad-1dc5-4869-8728-89e33d5d58f6",
   "metadata": {},
   "outputs": [
    {
     "data": {
      "text/plain": [
       "['sepal length (cm)',\n",
       " 'sepal width (cm)',\n",
       " 'petal length (cm)',\n",
       " 'petal width (cm)']"
      ]
     },
     "execution_count": 20,
     "metadata": {},
     "output_type": "execute_result"
    }
   ],
   "source": [
    "iris.feature_names"
   ]
  },
  {
   "cell_type": "code",
   "execution_count": null,
   "id": "0fb6a1bf-9271-46de-b620-053cd87e9991",
   "metadata": {},
   "outputs": [],
   "source": []
  }
 ],
 "metadata": {
  "kernelspec": {
   "display_name": "uas_venv",
   "language": "python",
   "name": "uas_venv"
  },
  "language_info": {
   "codemirror_mode": {
    "name": "ipython",
    "version": 3
   },
   "file_extension": ".py",
   "mimetype": "text/x-python",
   "name": "python",
   "nbconvert_exporter": "python",
   "pygments_lexer": "ipython3",
   "version": "3.11.4"
  }
 },
 "nbformat": 4,
 "nbformat_minor": 5
}
